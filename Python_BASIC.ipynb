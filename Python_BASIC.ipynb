{
  "nbformat": 4,
  "nbformat_minor": 0,
  "metadata": {
    "colab": {
      "provenance": [],
      "authorship_tag": "ABX9TyMBNB3vdPdU7XmiSQD1Xzk4",
      "include_colab_link": true
    },
    "kernelspec": {
      "name": "python3",
      "display_name": "Python 3"
    },
    "language_info": {
      "name": "python"
    }
  },
  "cells": [
    {
      "cell_type": "markdown",
      "metadata": {
        "id": "view-in-github",
        "colab_type": "text"
      },
      "source": [
        "<a href=\"https://colab.research.google.com/github/misaakoo/portfolio/blob/main/Python_BASIC.ipynb\" target=\"_parent\"><img src=\"https://colab.research.google.com/assets/colab-badge.svg\" alt=\"Open In Colab\"/></a>"
      ]
    },
    {
      "cell_type": "code",
      "execution_count": null,
      "metadata": {
        "id": "-dHqm5Uhzqb5"
      },
      "outputs": [],
      "source": [
        "#操作確認"
      ]
    },
    {
      "cell_type": "markdown",
      "source": [
        "初歩の確認"
      ],
      "metadata": {
        "id": "m-OyGMnp2M33"
      }
    },
    {
      "cell_type": "code",
      "source": [
        "a = 5*3\n",
        "b = 8\n",
        "c =a+b\n",
        "c"
      ],
      "metadata": {
        "colab": {
          "base_uri": "https://localhost:8080/"
        },
        "id": "AwRMWF2z2k-W",
        "outputId": "0cbe70eb-a1b9-458b-c556-1fb16f96940b"
      },
      "execution_count": null,
      "outputs": [
        {
          "output_type": "execute_result",
          "data": {
            "text/plain": [
              "23"
            ]
          },
          "metadata": {},
          "execution_count": 1
        }
      ]
    },
    {
      "cell_type": "markdown",
      "source": [
        "少し応用"
      ],
      "metadata": {
        "id": "yKC3pfgo3P36"
      }
    },
    {
      "cell_type": "code",
      "source": [
        "x = c*3\n",
        "x"
      ],
      "metadata": {
        "colab": {
          "base_uri": "https://localhost:8080/"
        },
        "id": "yF3bLJNg3TwW",
        "outputId": "f633609f-604d-4701-9659-2238e625cf4a"
      },
      "execution_count": null,
      "outputs": [
        {
          "output_type": "execute_result",
          "data": {
            "text/plain": [
              "69"
            ]
          },
          "metadata": {},
          "execution_count": 2
        }
      ]
    }
  ]
}